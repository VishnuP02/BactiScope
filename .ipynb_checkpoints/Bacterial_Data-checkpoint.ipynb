{
 "cells": [
  {
   "cell_type": "code",
   "execution_count": null,
   "id": "1cefbd68",
   "metadata": {},
   "outputs": [],
   "source": [
    "import pandas as pd\n",
    "\n",
    "# Load the dataset\n",
    "file_path = 'Resources/bacteria_list_200.csv'  # Path relative to your working directory\n",
    "bacteria_data = pd.read_csv(file_path)\n",
    "\n",
    "# Display the first few rows of the dataset\n",
    "bacteria_data.head()"
   ]
  },
  {
   "cell_type": "code",
   "execution_count": null,
   "id": "c8fbba15",
   "metadata": {},
   "outputs": [],
   "source": [
    "# Check for missing values\n",
    "missing_values = bacteria_data.isnull().sum()\n",
    "print(\"Missing values per column:\")\n",
    "print(missing_values)\n",
    "\n",
    "# Check for duplicate rows\n",
    "duplicates = bacteria_data.duplicated().sum()\n",
    "print(f\"\\nNumber of duplicate rows: {duplicates}\")"
   ]
  },
  {
   "cell_type": "code",
   "execution_count": null,
   "id": "7b8232b0",
   "metadata": {},
   "outputs": [],
   "source": [
    "# Remove duplicate rows\n",
    "bacteria_data_cleaned = bacteria_data.drop_duplicates()\n",
    "\n",
    "# Verify the removal of duplicates\n",
    "print(f\"\\nNumber of rows after removing duplicates: {bacteria_data_cleaned.shape[0]}\")"
   ]
  },
  {
   "cell_type": "code",
   "execution_count": null,
   "id": "778c65da",
   "metadata": {},
   "outputs": [],
   "source": [
    "# Display basic info about the cleaned dataset\n",
    "bacteria_data_cleaned.info()"
   ]
  },
  {
   "cell_type": "code",
   "execution_count": null,
   "id": "685dfcae",
   "metadata": {},
   "outputs": [],
   "source": [
    "import matplotlib.pyplot as plt\n",
    "import seaborn as sns\n",
    "\n",
    "plt.figure(figsize=(12, 8))\n",
    "top_families = bacteria_data_cleaned['Family'].value_counts().nlargest(15).index  # Top 15 families\n",
    "sns.countplot(y='Family', data=bacteria_data_cleaned[bacteria_data_cleaned['Family'].isin(top_families)],\n",
    "              order=bacteria_data_cleaned['Family'].value_counts().nlargest(15).index)\n",
    "plt.title('Top 15 Bacterial Families')\n",
    "plt.xlabel('Count')\n",
    "plt.ylabel('Family')\n",
    "plt.show()"
   ]
  },
  {
   "cell_type": "code",
   "execution_count": null,
   "id": "8b31c200",
   "metadata": {},
   "outputs": [],
   "source": [
    "plt.figure(figsize=(12, 8))\n",
    "top_locations = bacteria_data_cleaned['Where Found'].value_counts().nlargest(15).index  # Top 15 locations\n",
    "sns.countplot(y='Where Found', data=bacteria_data_cleaned[bacteria_data_cleaned['Where Found'].isin(top_locations)],\n",
    "              order=bacteria_data_cleaned['Where Found'].value_counts().nlargest(15).index)\n",
    "plt.title('Top 15 Common Locations of Bacteria')\n",
    "plt.xlabel('Count')\n",
    "plt.ylabel('Where Found')\n",
    "plt.show()"
   ]
  },
  {
   "cell_type": "code",
   "execution_count": null,
   "id": "fba26706",
   "metadata": {
    "scrolled": false
   },
   "outputs": [],
   "source": [
    "plt.figure(figsize=(6, 4))\n",
    "sns.countplot(x='Harmful to Humans', data=bacteria_data_cleaned)\n",
    "plt.title('Harmfulness of Bacteria to Humans')\n",
    "plt.xlabel('Harmful to Humans')\n",
    "plt.ylabel('Count')\n",
    "plt.show()"
   ]
  },
  {
   "cell_type": "code",
   "execution_count": null,
   "id": "0685fa9e",
   "metadata": {},
   "outputs": [],
   "source": [
    "plt.figure(figsize=(14, 10))\n",
    "top_families = bacteria_data_cleaned['Family'].value_counts().nlargest(15).index  # Top 15 families\n",
    "sns.countplot(y='Family', hue='Harmful to Humans',\n",
    "              data=bacteria_data_cleaned[bacteria_data_cleaned['Family'].isin(top_families)],\n",
    "              order=bacteria_data_cleaned['Family'].value_counts().nlargest(15).index)\n",
    "plt.title('Top 15 Bacterial Families vs Harmfulness')\n",
    "plt.xlabel('Count')\n",
    "plt.ylabel('Family')\n",
    "plt.legend(title='Harmful to Humans')\n",
    "plt.show()"
   ]
  },
  {
   "cell_type": "code",
   "execution_count": null,
   "id": "dc8c0489",
   "metadata": {},
   "outputs": [],
   "source": [
    "from sklearn.model_selection import train_test_split\n",
    "from sklearn.preprocessing import LabelEncoder, OneHotEncoder\n",
    "import pandas as pd\n",
    "\n",
    "# Encode the target variable \"Harmful to Humans\" (1 for \"Yes\" and 0 for \"No\") using .loc to avoid warnings\n",
    "bacteria_data_cleaned.loc[:, 'Harmful to Humans'] = bacteria_data_cleaned['Harmful to Humans'].map({'Yes': 1, 'No': 0})\n",
    "\n",
    "# One-hot encode the categorical variables \"Family\" and \"Where Found\"\n",
    "bacteria_data_encoded = pd.get_dummies(bacteria_data_cleaned, columns=['Family', 'Where Found'], drop_first=True)\n",
    "\n",
    "# Separate features and target variable\n",
    "X = bacteria_data_encoded.drop('Harmful to Humans', axis=1)\n",
    "y = bacteria_data_encoded['Harmful to Humans']\n",
    "\n",
    "# Split the data into training and testing sets\n",
    "X_train, X_test, y_train, y_test = train_test_split(X, y, test_size=0.2, random_state=42)"
   ]
  },
  {
   "cell_type": "code",
   "execution_count": null,
   "id": "cb212616",
   "metadata": {},
   "outputs": [],
   "source": [
    "# Drop the 'Name' column from X_train and X_test if it’s not needed\n",
    "X_train = X_train.drop(columns=['Name'], errors='ignore')\n",
    "X_test = X_test.drop(columns=['Name'], errors='ignore')"
   ]
  },
  {
   "cell_type": "code",
   "execution_count": null,
   "id": "8a7493aa",
   "metadata": {},
   "outputs": [],
   "source": [
    "print(X_train.dtypes)"
   ]
  },
  {
   "cell_type": "code",
   "execution_count": null,
   "id": "f6af7d46",
   "metadata": {},
   "outputs": [],
   "source": [
    "X_train = X_train.astype(int)\n",
    "X_test = X_test.astype(int)"
   ]
  }
 ],
 "metadata": {
  "kernelspec": {
   "display_name": "Python 3 (ipykernel)",
   "language": "python",
   "name": "python3"
  },
  "language_info": {
   "codemirror_mode": {
    "name": "ipython",
    "version": 3
   },
   "file_extension": ".py",
   "mimetype": "text/x-python",
   "name": "python",
   "nbconvert_exporter": "python",
   "pygments_lexer": "ipython3",
   "version": "3.11.5"
  }
 },
 "nbformat": 4,
 "nbformat_minor": 5
}
